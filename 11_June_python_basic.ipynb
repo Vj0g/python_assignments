{
 "cells": [
  {
   "cell_type": "code",
   "execution_count": 1,
   "id": "ad519629",
   "metadata": {},
   "outputs": [
    {
     "data": {
      "text/plain": [
       "'Answer-1. Lambda function are without names as compared to regular function as they are defined.'"
      ]
     },
     "execution_count": 1,
     "metadata": {},
     "output_type": "execute_result"
    }
   ],
   "source": [
    "# 1. What is a lambda function in Python, and how does it differ from a regular function?\n",
    "'''Answer-1. Lambda function are without names as compared to regular function as they are defined.'''"
   ]
  },
  {
   "cell_type": "code",
   "execution_count": 7,
   "id": "6c9dc631",
   "metadata": {},
   "outputs": [
    {
     "name": "stdout",
     "output_type": "stream",
     "text": [
      "Both numbers are even\n"
     ]
    }
   ],
   "source": [
    "# 2. Can a lambda function in Python have multiple arguments? If yes, how can you define and use them?\n",
    "'''Answer-2. Yes. '''\n",
    "\n",
    "# To check if both numbers are even\n",
    "\n",
    "Numbers = lambda x,y: x%2==0 and y%2==0\n",
    "x=4\n",
    "y=6\n",
    "if Numbers(x,y):\n",
    "    print('Both numbers are even')\n",
    "else:\n",
    "    print(\"Atleast one number is odd\")"
   ]
  },
  {
   "cell_type": "code",
   "execution_count": 8,
   "id": "d8222f92",
   "metadata": {},
   "outputs": [
    {
     "name": "stdout",
     "output_type": "stream",
     "text": [
      "Atleast one number is odd\n"
     ]
    }
   ],
   "source": [
    "#3. How are lambda functions typically used in Python? Provide an example use case.\n",
    "'''Answer-3'''\n",
    "Numbers = lambda x,y: x%2==0 and y%2==0\n",
    "x=4\n",
    "y=3\n",
    "if Numbers(x,y):\n",
    "    print('Both numbers are even')\n",
    "else:\n",
    "    print(\"Atleast one number is odd\")\n"
   ]
  },
  {
   "cell_type": "code",
   "execution_count": 9,
   "id": "aa6363af",
   "metadata": {},
   "outputs": [
    {
     "data": {
      "text/plain": [
       "'Answer-4. \\nAdvantages- Good for performing short line of codes.\\nLimitations- Can reduce relaibility of code.'"
      ]
     },
     "execution_count": 9,
     "metadata": {},
     "output_type": "execute_result"
    }
   ],
   "source": [
    "# 4. What are the advantages and limitations of lambda functions compared to regular functions in Python?\n",
    "'''Answer-4. \n",
    "Advantages- Good for performing short line of codes.\n",
    "Limitations- Can reduce relaibility of code.'''\n"
   ]
  },
  {
   "cell_type": "code",
   "execution_count": 13,
   "id": "3661aecf",
   "metadata": {},
   "outputs": [
    {
     "name": "stdout",
     "output_type": "stream",
     "text": [
      "27\n",
      "15\n"
     ]
    }
   ],
   "source": [
    "# 5. Are lambda functions in Python able to access variables defined outside of their own scope? Explain with an example.\n",
    "'''Answer-5.Yes it can access variables defined outside their scope through a concept called closure.'''\n",
    "def make_multiplier_of(n):\n",
    "    return lambda x: x * n\n",
    "\n",
    "# Create a multiplier function\n",
    "times3 = make_multiplier_of(3)\n",
    "times5 = make_multiplier_of(5)\n",
    "\n",
    "# Use the multiplier function\n",
    "print(times3(9))  \n",
    "print(times5(3))  \n"
   ]
  },
  {
   "cell_type": "code",
   "execution_count": 25,
   "id": "ea2478be",
   "metadata": {},
   "outputs": [
    {
     "name": "stdout",
     "output_type": "stream",
     "text": [
      "Find square of = 5\n"
     ]
    },
    {
     "data": {
      "text/plain": [
       "25"
      ]
     },
     "execution_count": 25,
     "metadata": {},
     "output_type": "execute_result"
    }
   ],
   "source": [
    "#6. Write a lambda function to calculate the square of a given number.\n",
    "'''Answer-6.'''\n",
    "# To find square of a number\n",
    "num1=int(input(\"Find square of = \"))\n",
    "sq_num1=lambda sq_num1:num1**2\n",
    "sq_num1(num1)\n"
   ]
  },
  {
   "cell_type": "code",
   "execution_count": 14,
   "id": "e244e28e",
   "metadata": {},
   "outputs": [
    {
     "data": {
      "text/plain": [
       "85"
      ]
     },
     "execution_count": 14,
     "metadata": {},
     "output_type": "execute_result"
    }
   ],
   "source": [
    "#7. Create a lambda function to find the maximum value in a list of integers.\n",
    "'''Answer-7.'''\n",
    "list1= [2,5,4,3,78,85,44,65]\n",
    "max_num= lambda max_num: max(list1)\n",
    "max_num(list1)\n"
   ]
  },
  {
   "cell_type": "code",
   "execution_count": 41,
   "id": "c5e1a0be",
   "metadata": {},
   "outputs": [
    {
     "name": "stdout",
     "output_type": "stream",
     "text": [
      "[2, 4, 78, 44]\n"
     ]
    }
   ],
   "source": [
    "# 8. Implement a lambda function to filter out all the even numbers from a list of integers.\n",
    "'''Answer-8'''\n",
    "list1= [2,5,4,3,78,85,44,65]\n",
    "a=filter(lambda w:w%2==0,list1)\n",
    "print(list(a))\n"
   ]
  },
  {
   "cell_type": "code",
   "execution_count": 55,
   "id": "f5c13ae7",
   "metadata": {},
   "outputs": [
    {
     "data": {
      "text/plain": [
       "['a', 'ds', 'asd', 'oie', 'gfdd', 'qwerty']"
      ]
     },
     "execution_count": 55,
     "metadata": {},
     "output_type": "execute_result"
    }
   ],
   "source": [
    "# 9. Write a lambda function to sort a list of strings in ascending order based on the length of each string.\n",
    "'''Answer-9.'''\n",
    "list_2 = ['asd','a','ds','oie','qwerty','gfdd']\n",
    "lst_ord= lambda lst_ord: sorted(list_2,key=len)\n",
    "\n",
    "lst_ord(list_2)"
   ]
  },
  {
   "cell_type": "code",
   "execution_count": 79,
   "id": "e49b2bac",
   "metadata": {},
   "outputs": [
    {
     "data": {
      "text/plain": [
       "{2, 'a'}"
      ]
     },
     "execution_count": 79,
     "metadata": {},
     "output_type": "execute_result"
    }
   ],
   "source": [
    "'''10. Create a lambda function that takes two lists as input and returns a new list containing the\n",
    "common elements between the two lists.'''\n",
    "\n",
    "'''Answer-10.'''\n",
    "lst_1=[2,5,45,'sdf','a']\n",
    "lst_2=[2,3,54,'a','df']\n",
    "lst3= lambda a: set(lst_1)&set(lst_2)\n",
    "lst3(a)\n"
   ]
  },
  {
   "cell_type": "code",
   "execution_count": 11,
   "id": "720a984b",
   "metadata": {},
   "outputs": [
    {
     "data": {
      "text/plain": [
       "120"
      ]
     },
     "execution_count": 11,
     "metadata": {},
     "output_type": "execute_result"
    }
   ],
   "source": [
    "# 11. Write a recursive function to calculate the factorial of a given positive integer.\n",
    "'''Answer-11'''\n",
    "def f(n):\n",
    "    \n",
    "    if n==0:\n",
    "        \n",
    "\n",
    "        return 1\n",
    "    return n*f(n-1)\n",
    "f(5)"
   ]
  },
  {
   "cell_type": "code",
   "execution_count": 2,
   "id": "a62672ac",
   "metadata": {},
   "outputs": [
    {
     "data": {
      "text/plain": [
       "13"
      ]
     },
     "execution_count": 2,
     "metadata": {},
     "output_type": "execute_result"
    }
   ],
   "source": [
    "# 12. Implement a recursive function to compute the nth Fibonacci number.\n",
    "'''Answer-12'''\n",
    "def fibb(n):\n",
    "    if n<=0:\n",
    "        print('valid number')\n",
    "        \n",
    "    elif n==1:\n",
    "        return 0\n",
    "    elif n==2:\n",
    "        return 1\n",
    "    else:\n",
    "        return fibb(n-1)+fibb(n-2)\n",
    "fibb(8)"
   ]
  },
  {
   "cell_type": "code",
   "execution_count": 1,
   "id": "a1c21a04",
   "metadata": {},
   "outputs": [
    {
     "data": {
      "text/plain": [
       "128"
      ]
     },
     "execution_count": 1,
     "metadata": {},
     "output_type": "execute_result"
    }
   ],
   "source": [
    "# 13. Create a recursive function to find the sum of all the elements in a given list.\n",
    "'''Answer-13'''\n",
    "lst_2 = [1,2,45,5,68,7]\n",
    "def add(lst_2):\n",
    "    if len(lst_2)==0:\n",
    "        return 0\n",
    "    else:\n",
    "        return lst_2[0]+ add(lst_2[1:])\n",
    "add(lst_2)"
   ]
  },
  {
   "cell_type": "code",
   "execution_count": 5,
   "id": "074a6aaf",
   "metadata": {},
   "outputs": [
    {
     "name": "stdout",
     "output_type": "stream",
     "text": [
      "This is not a pallindrome\n"
     ]
    }
   ],
   "source": [
    "# 14. Write a recursive function to determine whether a given string is a palindrome.\n",
    "'''Answer-14'''\n",
    "def paldr(strg):\n",
    "    if strg==strg[::-1]:\n",
    "        print(\"This is pallindrome\")\n",
    "    else:\n",
    "        print('This is not a pallindrome')\n",
    "    \n",
    "\n",
    "paldr('sdfd')"
   ]
  },
  {
   "cell_type": "code",
   "execution_count": 47,
   "id": "b04e3aff",
   "metadata": {},
   "outputs": [
    {
     "name": "stdout",
     "output_type": "stream",
     "text": [
      "The GCD is = 5\n"
     ]
    }
   ],
   "source": [
    "# 15. Implement a recursive function to find the greatest common divisor (GCD) of two positive integers.\n",
    "'''Answer-15'''\n",
    "def gcd(x,y):\n",
    "    if x>y:\n",
    "        s=y\n",
    "    else:\n",
    "        s=x\n",
    "    i = range(1,s+1)\n",
    "\n",
    "    for i in range(1,s+1) :\n",
    "        if ((x%i==0) & (y%i==0)) :\n",
    "            \n",
    "            g = i\n",
    "    return g\n",
    "        \n",
    "        \n",
    "gcd(15,50)\n",
    "print(\"The GCD is =\", gcd(15,50))"
   ]
  },
  {
   "cell_type": "code",
   "execution_count": null,
   "id": "5b60dab1",
   "metadata": {},
   "outputs": [],
   "source": []
  }
 ],
 "metadata": {
  "kernelspec": {
   "display_name": "Python 3 (ipykernel)",
   "language": "python",
   "name": "python3"
  },
  "language_info": {
   "codemirror_mode": {
    "name": "ipython",
    "version": 3
   },
   "file_extension": ".py",
   "mimetype": "text/x-python",
   "name": "python",
   "nbconvert_exporter": "python",
   "pygments_lexer": "ipython3",
   "version": "3.10.9"
  }
 },
 "nbformat": 4,
 "nbformat_minor": 5
}
