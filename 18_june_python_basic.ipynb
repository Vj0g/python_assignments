{
 "cells": [
  {
   "cell_type": "code",
   "execution_count": 12,
   "id": "633f875a",
   "metadata": {},
   "outputs": [
    {
     "name": "stdout",
     "output_type": "stream",
     "text": [
      "There is an error\n",
      "This is the result =  1.5\n"
     ]
    }
   ],
   "source": [
    "# 1. What is the role of the 'else' block in a try-except statement? Provide an example scenario where it would be useful.\n",
    "'''Answer-1. If there is no exception then 'else' block will execute. It helpful in knowing code\n",
    "has executed successfully'''\n",
    "def any_error(x,y):\n",
    "    try:\n",
    "        z=x/y\n",
    "       \n",
    "    except:\n",
    "        print('There is an error')\n",
    "    else:\n",
    "         print(\"This is the result = \", z)\n",
    "any_error(5,'a')\n",
    "any_error(6,4)\n"
   ]
  },
  {
   "cell_type": "code",
   "execution_count": 15,
   "id": "bf97b1a9",
   "metadata": {},
   "outputs": [
    {
     "name": "stdout",
     "output_type": "stream",
     "text": [
      "First number = 2\n",
      "Second number = 0\n",
      "This is the multiplication result =  0\n",
      "can not divide by zero\n"
     ]
    }
   ],
   "source": [
    "# 2. Can a try-except block be nested inside another try-except block? Explain with an example.\n",
    "'''Answer-2. '''\n",
    "\n",
    "try:\n",
    "    x=int(input('First number = '))\n",
    "    y=int(input('Second number = '))\n",
    "\n",
    "    m=x*y\n",
    "    print('This is the multiplication result = ',m)\n",
    "    \n",
    "    try:\n",
    "        \n",
    "        d=x/y\n",
    "        print(\"This is the division result = \",d)\n",
    "    except:\n",
    "        print(\"can not divide by zero\")\n",
    "        \n",
    "except :\n",
    "    print('use integer value')"
   ]
  },
  {
   "cell_type": "code",
   "execution_count": 4,
   "id": "c6d10d70",
   "metadata": {},
   "outputs": [
    {
     "name": "stdout",
     "output_type": "stream",
     "text": [
      "A New Exception occurred:  6\n"
     ]
    }
   ],
   "source": [
    "# 3. How can you create a custom exception class in Python? Provide an example that demonstrates its usage.\n",
    "'''Answer-3.'''\n",
    "class Error(Exception):\n",
    " \n",
    "    \n",
    "    def __init__(self, value):\n",
    "        self.value = value\n",
    " \n",
    "    \n",
    "    def __str__(self):\n",
    "        return(repr(self.value))\n",
    " \n",
    " \n",
    "try:\n",
    "    raise(Error(3*2))\n",
    "\n",
    "except Error as error:\n",
    "    print('A New Exception occurred: ', error.value)"
   ]
  },
  {
   "cell_type": "code",
   "execution_count": 15,
   "id": "c41d3d66",
   "metadata": {},
   "outputs": [
    {
     "data": {
      "text/plain": [
       "\"Answer-4.Some common exceptions are ZeroDivisionError, ValueError, Warning, TabError, TimeoutError.\\nWe can list the built-in exceptions by using (dir(locals()['__builtins__']))\""
      ]
     },
     "execution_count": 15,
     "metadata": {},
     "output_type": "execute_result"
    }
   ],
   "source": [
    "# 4. What are some common exceptions that are built-in to Python?\n",
    "'''Answer-4.Some common exceptions are ZeroDivisionError, ValueError, Warning, TabError, TimeoutError.\n",
    "We can list the built-in exceptions by using (dir(locals()['__builtins__']))'''\n"
   ]
  },
  {
   "cell_type": "code",
   "execution_count": 16,
   "id": "3aa00cf1",
   "metadata": {},
   "outputs": [
    {
     "data": {
      "text/plain": [
       "'Answer-5.Logging is a means of tracking events when code runs.\\nLogging is important for software developing, debugging, and running'"
      ]
     },
     "execution_count": 16,
     "metadata": {},
     "output_type": "execute_result"
    }
   ],
   "source": [
    "# 5. What is logging in Python, and why is it important in software development?\n",
    "'''Answer-5.Logging is a means of tracking events when code runs.\n",
    "Logging is important for software developing, debugging, and running'''"
   ]
  },
  {
   "cell_type": "code",
   "execution_count": 18,
   "id": "7af78350",
   "metadata": {},
   "outputs": [
    {
     "data": {
      "text/plain": [
       "'Answer-6.They are built-in levels to log message.\\nDebug: These are used to give Detailed information, typically of interest only when diagnosing problems.\\n\\nInfo: These are used to confirm that things are working as expected\\n\\nWarning: These are used as an indication that something unexpected happened, or\\nis indicative of some problem in the near future\\n\\nError: This tells that due to a more serious problem, the software has not been able to perform some function\\n\\nCritical: This tells serious error, indicating that the program itself may be unable to continue running'"
      ]
     },
     "execution_count": 18,
     "metadata": {},
     "output_type": "execute_result"
    }
   ],
   "source": [
    "# 6. Explain the purpose of log levels in Python logging and provide examples of when each log level would be appropriate.\n",
    "'''Answer-6.They are built-in levels to log message.\n",
    "Debug: These are used to give Detailed information, typically of interest only when diagnosing problems.\n",
    "\n",
    "Info: These are used to confirm that things are working as expected\n",
    "\n",
    "Warning: These are used as an indication that something unexpected happened, or\n",
    "is indicative of some problem in the near future\n",
    "\n",
    "Error: This tells that due to a more serious problem, the software has not been able to perform some function\n",
    "\n",
    "Critical: This tells serious error, indicating that the program itself may be unable to continue running'''\n"
   ]
  },
  {
   "cell_type": "code",
   "execution_count": 1,
   "id": "11fbcc1c",
   "metadata": {},
   "outputs": [
    {
     "data": {
      "text/plain": [
       "'Answer-7. By using log formatters we can customize log message, to do that we can use:-\\n%(message)s: The log message'"
      ]
     },
     "execution_count": 1,
     "metadata": {},
     "output_type": "execute_result"
    }
   ],
   "source": [
    "# 7. What are log formatters in Python logging, and how can you customise the log message format using formatters?\n",
    "'''Answer-7. By using log formatters we can customize log message, to do that we can use:-\n",
    "%(message)s: The log message'''\n"
   ]
  },
  {
   "cell_type": "code",
   "execution_count": 2,
   "id": "2107b94f",
   "metadata": {},
   "outputs": [
    {
     "data": {
      "text/plain": [
       "'Answer-8. \\n1. Import the logging module in each module that you want to use it in.\\n2. Configure the logging in the root module using basicConfig() or dictConfig() methods.\\n3. In each module, get the logger instance by calling getLogger() method with the module name as an argument.\\n4. Use the logger object to log messages in the module using methods like debug(), info(), warning(),\\nerror(), or critical().\\n'"
      ]
     },
     "execution_count": 2,
     "metadata": {},
     "output_type": "execute_result"
    }
   ],
   "source": [
    "# 8. How can you set up logging to capture log messages from multiple modules or classes in a Python application?\n",
    "'''Answer-8. \n",
    "1. Import the logging module in each module that you want to use it in.\n",
    "2. Configure the logging in the root module using basicConfig() or dictConfig() methods.\n",
    "3. In each module, get the logger instance by calling getLogger() method with the module name as an argument.\n",
    "4. Use the logger object to log messages in the module using methods like debug(), info(), warning(),\n",
    "error(), or critical().\n",
    "'''\n"
   ]
  },
  {
   "cell_type": "code",
   "execution_count": 3,
   "id": "585d2aa0",
   "metadata": {},
   "outputs": [
    {
     "data": {
      "text/plain": [
       "'Answer-9. Logging in Python is a technique to display useful messages and warnings to users.\\nThe print statement is a built-in function in Python that prints the specified value or values to the console.\\n\\nWe can use logging over print as it provides diffrent log levels which are helpful in project development.'"
      ]
     },
     "execution_count": 3,
     "metadata": {},
     "output_type": "execute_result"
    }
   ],
   "source": [
    "# 9. What is the difference between the logging and print statements in Python? \n",
    "#    Whenshould you use logging over print statements in a real-world application?\n",
    "\n",
    "'''Answer-9. Logging in Python is a technique to display useful messages and warnings to users.\n",
    "The print statement is a built-in function in Python that prints the specified value or values to the console.\n",
    "\n",
    "We can use logging over print as it provides diffrent log levels which are helpful in project development.'''\n"
   ]
  },
  {
   "cell_type": "code",
   "execution_count": 22,
   "id": "8bd40f3b",
   "metadata": {},
   "outputs": [],
   "source": [
    "# 10. Write a Python program that logs a message to a file named \"app.log\" with the following requirements:\n",
    "# ● The log message should be \"Hello, World!\"\n",
    "# ● The log level should be set to \"INFO.\"\n",
    "# ● The log file should append new log entries without overwriting previous ones.\n",
    "\n",
    "'''Answer-10. '''\n",
    "import logging\n",
    " \n",
    "\n",
    "logging.basicConfig(filename=\"app.log\",\n",
    "                    \n",
    "                    filemode='w')\n",
    " \n",
    "\n",
    "logger = logging.getLogger()\n",
    " \n",
    "logger.setLevel(logging.INFO)\n",
    "\n",
    " \n",
    "# Test messages\n",
    "logger.debug(\"This won't show.\")\n",
    "logger.info(\"Hello, World!\")\n",
    "logger.warning(\"Its a Warning.\")\n",
    "logger.error(\"There is an error.\")\n",
    "logger.critical(\"This is very critical.\")"
   ]
  },
  {
   "cell_type": "code",
   "execution_count": 21,
   "id": "6fea1695",
   "metadata": {},
   "outputs": [
    {
     "name": "stdout",
     "output_type": "stream",
     "text": [
      "First number = 5\n",
      "Second number = 1\n",
      "5.0\n"
     ]
    }
   ],
   "source": [
    "'''11. Create a Python program that logs an error message to the console and a file named\n",
    "\"errors.log\" if an exception occurs during the program's execution. The error\n",
    "message should include the exception type and a timestamp.'''\n",
    "\n",
    "import logging\n",
    "logging.basicConfig(filename=\"errors.log\",\n",
    "                    format='%(asctime)s %(message)s',\n",
    "                    filemode='w') \n",
    "\n",
    "try:\n",
    "    x=int(input('First number = '))\n",
    "    y=int(input('Second number = '))\n",
    "    z=x/y\n",
    "    print(z)\n",
    "except ZeroDivisionError as e:\n",
    "    print(logging.exception(str(e)))\n",
    "    \n",
    "except ValueError as v:\n",
    "    print(logging.exception(str(v)))\n",
    "    \n",
    "\n",
    "logger = logging.getLogger()\n",
    "  \n",
    "logger.setLevel(logging.DEBUG)\n",
    " \n",
    "logger.debug(\"hello.\")\n",
    "logger.info(\"this is new\")\n",
    "logger.warning(\"Its a Warning.\")\n",
    "logger.error(\"There is an error.\")\n",
    "logger.critical(\"This is very critical.\")\n"
   ]
  },
  {
   "cell_type": "code",
   "execution_count": null,
   "id": "1151e343",
   "metadata": {},
   "outputs": [],
   "source": []
  }
 ],
 "metadata": {
  "kernelspec": {
   "display_name": "Python 3 (ipykernel)",
   "language": "python",
   "name": "python3"
  },
  "language_info": {
   "codemirror_mode": {
    "name": "ipython",
    "version": 3
   },
   "file_extension": ".py",
   "mimetype": "text/x-python",
   "name": "python",
   "nbconvert_exporter": "python",
   "pygments_lexer": "ipython3",
   "version": "3.10.9"
  }
 },
 "nbformat": 4,
 "nbformat_minor": 5
}
