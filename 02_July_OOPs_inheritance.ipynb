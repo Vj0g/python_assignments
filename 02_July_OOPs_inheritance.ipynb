{
 "cells": [
  {
   "cell_type": "code",
   "execution_count": 1,
   "id": "3b899075",
   "metadata": {},
   "outputs": [
    {
     "data": {
      "text/plain": [
       "'Answer-1. The method by which classes share properties and methods from their parent class is called inheritance.\\nIt makes code simple and reusable.'"
      ]
     },
     "execution_count": 1,
     "metadata": {},
     "output_type": "execute_result"
    }
   ],
   "source": [
    "# 1. Explain what inheritance is in object-oriented programming and why it is used.\n",
    "'''Answer-1. The method by which classes share properties and methods from their parent class is called inheritance.\n",
    "It makes code simple and reusable.'''"
   ]
  },
  {
   "cell_type": "code",
   "execution_count": 1,
   "id": "54eb045a",
   "metadata": {},
   "outputs": [
    {
     "data": {
      "text/plain": [
       "'Answer-2. Single inheritance - In this properties are shared from one parent class.\\nWhen a class is derived from more than one base class it is called multiple inheritance.'"
      ]
     },
     "execution_count": 1,
     "metadata": {},
     "output_type": "execute_result"
    }
   ],
   "source": [
    "# 2. Discuss the concept of single inheritance and multiple inheritance, highlighting their differences and advantages.\n",
    "'''Answer-2. Single inheritance - In this properties are shared from one parent class.\n",
    "When a class is derived from more than one base class it is called multiple inheritance.'''\n"
   ]
  },
  {
   "cell_type": "code",
   "execution_count": 2,
   "id": "1fa4df69",
   "metadata": {},
   "outputs": [
    {
     "data": {
      "text/plain": [
       "'Answer-3. Parent class is the class being inherited from, also called base class.\\nChild class is the class that inherits from another class, also called derived class.'"
      ]
     },
     "execution_count": 2,
     "metadata": {},
     "output_type": "execute_result"
    }
   ],
   "source": [
    "# 3. Explain the terms \"base class\" and \"derived class\" in the context of inheritance.\n",
    "'''Answer-3. Parent class is the class being inherited from, also called base class.\n",
    "Child class is the class that inherits from another class, also called derived class.'''"
   ]
  },
  {
   "cell_type": "code",
   "execution_count": 3,
   "id": "a10911c1",
   "metadata": {},
   "outputs": [
    {
     "data": {
      "text/plain": [
       "'Answer-4. The members of a class that are declared protected are only accessible to a class derived from it.\\nData members of a class are declared protected by adding a single underscore ‘_’.'"
      ]
     },
     "execution_count": 3,
     "metadata": {},
     "output_type": "execute_result"
    }
   ],
   "source": [
    "# 4. What is the significance of the \"protected\" access modifier in inheritance? How does \n",
    "#    it differ from \"private\" and \"public\" modifiers?\n",
    "'''Answer-4. The members of a class that are declared protected are only accessible to a class derived from it.\n",
    "Data members of a class are declared protected by adding a single underscore ‘_’.'''"
   ]
  },
  {
   "cell_type": "code",
   "execution_count": 4,
   "id": "e1ba122e",
   "metadata": {},
   "outputs": [
    {
     "data": {
      "text/plain": [
       "'Answer-5. By using super(), we can override methods of parent class in child class.'"
      ]
     },
     "execution_count": 4,
     "metadata": {},
     "output_type": "execute_result"
    }
   ],
   "source": [
    "# 5. What is the purpose of the \"super\" keyword in inheritance? Provide an example.\n",
    "'''Answer-5. By using super(), we can override methods of parent class in child class.''' "
   ]
  },
  {
   "cell_type": "markdown",
   "id": "39976275",
   "metadata": {},
   "source": [
    "6. Create a base class called \"Vehicle\" with attributes like \"make\", \"model\", and \"year\".\n",
    "Then, create a derived class called \"Car\" that inherits from \"Vehicle\" and adds an\n",
    "attribute called \"fuel_type\". Implement appropriate methods in both classes.\n"
   ]
  },
  {
   "cell_type": "code",
   "execution_count": 67,
   "id": "39aea5a4",
   "metadata": {},
   "outputs": [
    {
     "name": "stdout",
     "output_type": "stream",
     "text": [
      "This car is made in year 2015, its make 54a0 and model is 6B\n",
      "This car is made in year 2020, its make als and model is 78e\n",
      "This car is made in year 2020, its make als and model is 78e, its fuel type cng\n"
     ]
    }
   ],
   "source": [
    "# Answer-6\n",
    "\n",
    "class Vehicle():\n",
    "    def __init__(self, make, model, year):\n",
    "        self.make=make\n",
    "        self.model=model\n",
    "        self.year=year\n",
    "        print (f\"This car is made in year {self.year}, its make {self.make} and model is {self.model}\")\n",
    "class Car(Vehicle):\n",
    "    def __init__(self,make,model,year, fuel_type):\n",
    "        super().__init__(make,model,year)\n",
    "        self.fuel_type =fuel_type\n",
    "    def display(self):\n",
    "        print(f\"This car is made in year {self.year}, its make {self.make} and model is {self.model}, its fuel type {self.fuel_type}\")\n",
    "\n",
    "C = Vehicle('54a0', '6B', 2015)\n",
    "a = Car('als','78e', 2020,'cng')\n",
    "a.display()"
   ]
  },
  {
   "cell_type": "markdown",
   "id": "d7088fa9",
   "metadata": {},
   "source": [
    "7. Create a base class called \"Employee\" with attributes like \"name\" and \"salary.\"\n",
    "Derive two classes, \"Manager\" and \"Developer,\" from \"Employee.\" Add an additional\n",
    "attribute called \"department\" for the \"Manager\" class and \"programming_language\"\n",
    "for the \"Developer\" class.\n"
   ]
  },
  {
   "cell_type": "code",
   "execution_count": 5,
   "id": "2e733c01",
   "metadata": {},
   "outputs": [
    {
     "name": "stdout",
     "output_type": "stream",
     "text": [
      "This is manager's name abc, its salary 50000 and its department hr\n",
      "This is developer name pqr, its salary 26000 and its programing language sql\n"
     ]
    }
   ],
   "source": [
    "#Answer-7\n",
    "class Emoployee():\n",
    "    def __init__(self, name, salary):\n",
    "        self.name = name\n",
    "        self.salary = salary\n",
    "        \n",
    "class Manager(Emoployee):\n",
    "    def __init__(self, name, salary, department):\n",
    "        super().__init__(name,salary)\n",
    "        self.department = department\n",
    "        print(f\"This is manager's name {self.name}, its salary {self.salary} and its department {self.department}\")\n",
    "class Developer(Emoployee):\n",
    "    def __init__(self, name, salary, programming_language):\n",
    "        super().__init__(name,salary)\n",
    "        self.programming_language = programming_language\n",
    "        print(f\"This is developer name {self.name}, its salary {self.salary} and its programing language {self.programming_language}\")\n",
    "\n",
    "manager1= Manager('abc', 50000, 'hr')\n",
    "dev1=Developer('pqr', 26000, 'sql')"
   ]
  },
  {
   "cell_type": "markdown",
   "id": "7d9a7b94",
   "metadata": {},
   "source": [
    "8. Design a base class called \"Shape\" with attributes like \"colour\" and \"border_width.\"\n",
    "Create derived classes, \"Rectangle\" and \"Circle,\" that inherit from \"Shape\" and add\n",
    "specific attributes like \"length\" and \"width\" for the \"Rectangle\" class and \"radius\" for\n",
    "the \"Circle\" class."
   ]
  },
  {
   "cell_type": "code",
   "execution_count": 13,
   "id": "585e1b1a",
   "metadata": {},
   "outputs": [
    {
     "name": "stdout",
     "output_type": "stream",
     "text": [
      "This is rectangle of length 45, width 54, color blue, border_width 12\n",
      "This is a circle of radius 12, color red and its border_width 4\n"
     ]
    }
   ],
   "source": [
    "#Answer-8\n",
    "class Shape():\n",
    "    def __init__(self, colour, border_width):\n",
    "        self.colour = colour\n",
    "        self.border_width = border_width\n",
    "        \n",
    "class Rectangle(Shape):\n",
    "    def __init__(self, colour, border_width, length, width):\n",
    "        super().__init__(colour, border_width)\n",
    "        self.length = length\n",
    "        self.width = width\n",
    "        print(f\"This is rectangle of length {self.length}, width {self.width}, color {self.colour}, border_width {self.border_width}\")\n",
    "class Circle(Shape):\n",
    "    def __init__(self, colour, border_width, radius):\n",
    "        super().__init__(colour,border_width)\n",
    "        self.radius= radius\n",
    "        print(f\"This is a circle of radius {self.radius}, color {self.colour} and its border_width {self.border_width}\")\n",
    "\n",
    "rect1=Rectangle('blue', 12, 45,54)\n",
    "cir1=Circle('red',4,12)"
   ]
  },
  {
   "cell_type": "markdown",
   "id": "6690fc45",
   "metadata": {},
   "source": [
    "9. Create a base class called \"Device\" with attributes like \"brand\" and \"model.\" Derive\n",
    "two classes, \"Phone\" and \"Tablet,\" from \"Device.\" Add specific attributes like\n",
    "\"screen_size\" for the \"Phone\" class and \"battery_capacity\" for the \"Tablet\" class."
   ]
  },
  {
   "cell_type": "code",
   "execution_count": 9,
   "id": "00c376b7",
   "metadata": {},
   "outputs": [
    {
     "name": "stdout",
     "output_type": "stream",
     "text": [
      "The brand of this device is lg, model 14a and screen size 14 inch.\n",
      "The brand of this device is samsung, model 5c and battery capacity 18 hrs.\n"
     ]
    }
   ],
   "source": [
    "# Answer-9\n",
    "class Device():\n",
    "    def __init__(self, brand, model):\n",
    "        self.brand = brand\n",
    "        self.model = model\n",
    "\n",
    "class Phone(Device):\n",
    "    def __init__(self, brand, model, screen_size):\n",
    "        super().__init__(brand, model)\n",
    "        self.screen_size = screen_size\n",
    "        print(f\"The brand of this device is {self.brand}, model {self.model} and screen size {self.screen_size}.\")\n",
    "        \n",
    "class Tablet(Device):\n",
    "    def __init__(self, brand, model, battery_capacity):\n",
    "        super().__init__(brand, model)\n",
    "        self.battery_capacity=battery_capacity\n",
    "        print(f\"The brand of this device is {self.brand}, model {self.model} and battery capacity {self.battery_capacity}.\")\n",
    "\n",
    "ph1=Phone('lg','14a', '14 inch')\n",
    "tb1=Tablet('samsung','5c', '18 hrs')"
   ]
  },
  {
   "cell_type": "markdown",
   "id": "213961be",
   "metadata": {},
   "source": [
    "10. Create a base class called \"BankAccount\" with attributes like \"account_number\" and\n",
    "\"balance.\" Derive two classes, \"SavingsAccount\" and \"CheckingAccount,\" from\n",
    "\"BankAccount.\" Add specific methods like \"calculate_interest\" for the\n",
    "\"SavingsAccount\" class and \"deduct_fees\" for the \"CheckingAccount\" class."
   ]
  },
  {
   "cell_type": "code",
   "execution_count": 40,
   "id": "8a14baa6",
   "metadata": {},
   "outputs": [
    {
     "name": "stdout",
     "output_type": "stream",
     "text": [
      "The account no. is 20003 and its balance is Rs.50000\n",
      "Time for which interest is calculates in years =5\n",
      "The intrest recived in savings account is Rs.16250.0\n",
      "--------------------------------------------\n",
      "The checking account no. is 5001 and its balance is Rs.10000\n",
      "Time for which fees is calculates in years =2\n",
      "The fees deducted from checking account is Rs.200\n"
     ]
    }
   ],
   "source": [
    "# Answer-10\n",
    "class BankAccount():\n",
    "    def __init__(self, account_number, balance):\n",
    "        self.account_number = account_number\n",
    "        self.balance = balance\n",
    "        \n",
    "class SavingsAccount(BankAccount):\n",
    "    def __init__(self,account_number,balance):\n",
    "        super().__init__(account_number,balance)\n",
    "        print(f\"The account no. is {self.account_number} and its balance is Rs.{self.balance}\")\n",
    "    def calculate_interest(self):\n",
    "        time = int(input(\"Time for which interest is calculates in years =\"))\n",
    "        intrest =int(self.balance)* time*(6.5/100) # yearly interest is 6.5\n",
    "        print(f\"The intrest recived in savings account is Rs.{intrest}\")\n",
    "\n",
    "class CheckingAccount(BankAccount):\n",
    "    def __init__(self,account_number,balance):\n",
    "        super().__init__(account_number,balance)\n",
    "        print(f\"The checking account no. is {self.account_number} and its balance is Rs.{self.balance}\")\n",
    "              \n",
    "    def deduct_fees(self):\n",
    "        Time = int(input(\"Time for which fees is calculates in years =\"))\n",
    "        Fees = Time*(100) # yearly fees is Rs.100\n",
    "        print(f\"The fees deducted from checking account is Rs.{Fees}\")\n",
    "\n",
    "SavingsAccount(20003,50000).calculate_interest()\n",
    "print(\"--------------------------------------------\")\n",
    "CheckingAccount(5001,10000).deduct_fees()\n"
   ]
  }
 ],
 "metadata": {
  "kernelspec": {
   "display_name": "Python 3 (ipykernel)",
   "language": "python",
   "name": "python3"
  },
  "language_info": {
   "codemirror_mode": {
    "name": "ipython",
    "version": 3
   },
   "file_extension": ".py",
   "mimetype": "text/x-python",
   "name": "python",
   "nbconvert_exporter": "python",
   "pygments_lexer": "ipython3",
   "version": "3.10.9"
  }
 },
 "nbformat": 4,
 "nbformat_minor": 5
}
