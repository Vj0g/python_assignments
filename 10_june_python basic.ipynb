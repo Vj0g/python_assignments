{
 "cells": [
  {
   "cell_type": "code",
   "execution_count": 7,
   "id": "2df15f5a",
   "metadata": {},
   "outputs": [
    {
     "name": "stdout",
     "output_type": "stream",
     "text": [
      "range(0, 2)\n"
     ]
    },
    {
     "data": {
      "text/plain": [
       "6"
      ]
     },
     "execution_count": 7,
     "metadata": {},
     "output_type": "execute_result"
    }
   ],
   "source": [
    "'''1. In Python, what is the difference between a built-in function and a user-defined function? Provide an\n",
    "example of each.'''\n",
    "\n",
    "'''Answer-1. There are functions that come with python are called built-in functions and there are functions that\n",
    "are created by user for a specific use are called user defined function.'''\n",
    "#built in functions-\n",
    "print(range(0,2))\n",
    "\n",
    "#user-defined function- \n",
    "def multiplication(a,b):\n",
    "    return a*b\n",
    "multiplication(2,3)"
   ]
  },
  {
   "cell_type": "code",
   "execution_count": 15,
   "id": "08cf6dc8",
   "metadata": {},
   "outputs": [
    {
     "name": "stdout",
     "output_type": "stream",
     "text": [
      "3\n"
     ]
    }
   ],
   "source": [
    "'''2. How can you pass arguments to a function in Python? Explain the difference between positional\n",
    "arguments and keyword arguments.'''\n",
    "\n",
    "'''Answer-2. A value that is passed to a funtion is called argument.They are written when calling a funtion.\n",
    "\n",
    "Positional arguments- In this first argument is listed first and second argument second, when function is called.\n",
    "\n",
    "Keyword arguments- In this order of arguments does not matter as values are assigned to each argument. '''\n",
    "\n",
    "def sum(a,b):\n",
    "    print(a+b) \n",
    "    \n",
    "sum(1,2) "
   ]
  },
  {
   "cell_type": "code",
   "execution_count": 26,
   "id": "243a1b55",
   "metadata": {},
   "outputs": [
    {
     "data": {
      "text/plain": [
       "2"
      ]
     },
     "execution_count": 26,
     "metadata": {},
     "output_type": "execute_result"
    }
   ],
   "source": [
    "'''3. What is the purpose of the return statement in a function? Can a function have multiple return\n",
    "statements? Explain with an example.'''\n",
    "\n",
    "'''Answer- It is used to end the execution of the funtion. No a function can have only one return.'''\n",
    "def sum(a,b): \n",
    "    c=a+b\n",
    "    d=a*b\n",
    "    return d # this one is called\n",
    "    return c # this one is not reacheable as code ended on first return statement.\n",
    "    \n",
    "sum(1,2) "
   ]
  },
  {
   "cell_type": "code",
   "execution_count": 28,
   "id": "8e5b5172",
   "metadata": {},
   "outputs": [
    {
     "data": {
      "text/plain": [
       "64"
      ]
     },
     "execution_count": 28,
     "metadata": {},
     "output_type": "execute_result"
    }
   ],
   "source": [
    "'''4. What are lambda functions in Python? How are they different from regular functions? Provide an\n",
    "example where a lambda function can be useful.'''\n",
    "\n",
    "'''Answer-4. These function are without names as compared to regular function as they are defined.'''\n",
    "lambda_cube = lambda y: y*y*y\n",
    "lambda_cube(4)"
   ]
  },
  {
   "cell_type": "code",
   "execution_count": 7,
   "id": "a78b2c5a",
   "metadata": {},
   "outputs": [
    {
     "data": {
      "text/plain": [
       "\"Answer-5'. Area in a program where we can access a variable is called scope.\\nA scope created inside a function is called local scope.\\nA scope created outside a function is called global scope.\""
      ]
     },
     "execution_count": 7,
     "metadata": {},
     "output_type": "execute_result"
    }
   ],
   "source": [
    "'''5. How does the concept of \"scope\" apply to functions in Python? Explain the difference between local\n",
    "scope and global scope.'''\n",
    "\n",
    "'''Answer-5'. Area in a program where we can access a variable is called scope.\n",
    "A scope created inside a function is called local scope.\n",
    "A scope created outside a function is called global scope.'''\n"
   ]
  },
  {
   "cell_type": "code",
   "execution_count": 27,
   "id": "f08137b6",
   "metadata": {},
   "outputs": [
    {
     "name": "stdout",
     "output_type": "stream",
     "text": [
      "Hello\n",
      "10\n",
      "[1, 2, 3]\n"
     ]
    }
   ],
   "source": [
    "#6. How can you use the \"return\" statement in a Python function to return multiple values?\n",
    "\n",
    "'''Answer-6. '''\n",
    "\n",
    "def values():\n",
    "    value1 = 10\n",
    "    value2 = \"Hello\"\n",
    "    value3 = [1, 2, 3]\n",
    "\n",
    "    return value1, value2, value3\n",
    "\n",
    "result1, result2, result3 = values()\n",
    "\n",
    "print(result2)\n",
    "print(result1)\n",
    "print(result3)\n"
   ]
  },
  {
   "cell_type": "code",
   "execution_count": 2,
   "id": "6a5e8583",
   "metadata": {},
   "outputs": [
    {
     "data": {
      "text/plain": [
       "'Answer-7. It is by the refrence of objects, for immutable objects it is \"pass by value\".\\nFor mutable objects it is \"pass by reference\"'"
      ]
     },
     "execution_count": 2,
     "metadata": {},
     "output_type": "execute_result"
    }
   ],
   "source": [
    "'''7. What is the difference between the \"pass by value\" and \"pass by reference\" concepts when it\n",
    "comes to function arguments in Python?'''\n",
    "\n",
    "'''Answer-7. It is by the refrence of objects, for immutable objects it is \"pass by value\".\n",
    "For mutable objects it is \"pass by reference\"'''"
   ]
  },
  {
   "cell_type": "code",
   "execution_count": 32,
   "id": "b0803d3e",
   "metadata": {},
   "outputs": [
    {
     "name": "stdout",
     "output_type": "stream",
     "text": [
      "Logarithmic function =  {1.6094379124341003}\n",
      "Exponential function =  {148.4131591025766}\n",
      "Power function with base 2 =  {32}\n",
      "Square root =  {2.23606797749979}\n"
     ]
    }
   ],
   "source": [
    "#8. Create a function that can intake integer or decimal value and do following operations:\n",
    "#a. Logarithmic function (log x)\n",
    "#b. Exponential function (exp(x))\n",
    "#c. Power function with base 2 (2x)\n",
    "#d. Square root\n",
    "\n",
    "'''Answer-8.'''\n",
    "import math\n",
    "x=5\n",
    "def diffrent_op(x):\n",
    "    \n",
    "    log_func = math.log(x)\n",
    "    exp_func = math.exp(x)\n",
    "    power_func = pow(2,x)\n",
    "    sq_root = pow(x,0.5)\n",
    "    return log_func, exp_func, power_func, sq_root\n",
    "\n",
    "log_func, exp_func, power_func, sq_root = diffrent_op(x)\n",
    "\n",
    "print('Logarithmic function = ',{log_func})\n",
    "print('Exponential function = ',{exp_func})\n",
    "print('Power function with base 2 = ',{power_func})\n",
    "print('Square root = ',{sq_root})"
   ]
  },
  {
   "cell_type": "code",
   "execution_count": 11,
   "id": "249b2624",
   "metadata": {},
   "outputs": [
    {
     "name": "stdout",
     "output_type": "stream",
     "text": [
      "First name =  jay\n",
      "Last name =  kumar\n"
     ]
    },
    {
     "data": {
      "text/plain": [
       "('jay', 'kumar')"
      ]
     },
     "execution_count": 11,
     "metadata": {},
     "output_type": "execute_result"
    }
   ],
   "source": [
    "#9. Create a function that takes a full name as an argument and returns first name and last name.\n",
    "'''Answer-9.'''\n",
    "def name(x,y):\n",
    "    first_name=x\n",
    "    last_name=y\n",
    "    print('First name = ', x)\n",
    "    print('Last name = ', y)\n",
    "    return x,y\n",
    "\n",
    "name('jay','kumar')"
   ]
  },
  {
   "cell_type": "code",
   "execution_count": null,
   "id": "cca56954",
   "metadata": {},
   "outputs": [],
   "source": []
  },
  {
   "cell_type": "code",
   "execution_count": null,
   "id": "fd6a29f0",
   "metadata": {},
   "outputs": [],
   "source": []
  }
 ],
 "metadata": {
  "kernelspec": {
   "display_name": "Python 3 (ipykernel)",
   "language": "python",
   "name": "python3"
  },
  "language_info": {
   "codemirror_mode": {
    "name": "ipython",
    "version": 3
   },
   "file_extension": ".py",
   "mimetype": "text/x-python",
   "name": "python",
   "nbconvert_exporter": "python",
   "pygments_lexer": "ipython3",
   "version": "3.10.9"
  }
 },
 "nbformat": 4,
 "nbformat_minor": 5
}
