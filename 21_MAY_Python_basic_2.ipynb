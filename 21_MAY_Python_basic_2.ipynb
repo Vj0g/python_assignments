{
 "cells": [
  {
   "cell_type": "code",
   "execution_count": 1,
   "id": "2ab3180e",
   "metadata": {},
   "outputs": [
    {
     "data": {
      "text/plain": [
       "'Q.1. Create two int type variables, apply addition, subtraction, division and multiplications\\nand store the results in variables. Then print the data in the following format by calling the\\nvariables:\\nFirst variable is __ & second variable is __.\\nAddition: __ + __ = __\\nSubtraction: __ - __ = __\\nMultiplication: __ * __ = __\\nDivision: __ / __ = __'"
      ]
     },
     "execution_count": 1,
     "metadata": {},
     "output_type": "execute_result"
    }
   ],
   "source": [
    "'''Q.1. Create two int type variables, apply addition, subtraction, division and multiplications\n",
    "and store the results in variables. Then print the data in the following format by calling the\n",
    "variables:\n",
    "First variable is __ & second variable is __.\n",
    "Addition: __ + __ = __\n",
    "Subtraction: __ - __ = __\n",
    "Multiplication: __ * __ = __\n",
    "Division: __ / __ = __'''"
   ]
  },
  {
   "cell_type": "code",
   "execution_count": 5,
   "id": "0fea7443",
   "metadata": {},
   "outputs": [
    {
     "name": "stdout",
     "output_type": "stream",
     "text": [
      "First variable = 5\n",
      "Second variable = 0\n",
      "First variable is 5 & second variable is 0\n",
      "Addition: 5 + 0 = 5\n",
      "Substraction: 5 - 0 = 5\n",
      "Multiplication: 5 * 0 = 0\n",
      "Division: 5 / 0 = denominator should not be zero\n"
     ]
    }
   ],
   "source": [
    "#Answer-1\n",
    "a= int(input(\"First variable = \"))\n",
    "b= int(input('Second variable = '))\n",
    "print(f'First variable is {a} & second variable is {b}')\n",
    "addition = a + b\n",
    "print(f'Addition: {a} + {b} =', addition)\n",
    "\n",
    "\n",
    "substraction = a-b\n",
    "print(f'Substraction: {a} - {b} =', substraction)\n",
    "\n",
    "multiplication = a*b\n",
    "print(f'Multiplication: {a} * {b} =', multiplication)\n",
    "\n",
    "if b>0:\n",
    "    division = a/b\n",
    "    print(f'Division: {a} / {b} =', division)\n",
    "\n",
    "else:\n",
    "    print(f'Division: {a} / {b} =','denominator should not be zero')\n"
   ]
  },
  {
   "cell_type": "code",
   "execution_count": 5,
   "id": "400903e0",
   "metadata": {},
   "outputs": [
    {
     "data": {
      "text/plain": [
       "\"Answer-2.(i) Operator '/' is used for division and operator '//' is also used for division but if output is in decimal\\nit gives nearest number that is less than output\\n(ii). operator '**' is used as exponential power and operator '^' is used as Bitwise XOR.\""
      ]
     },
     "execution_count": 5,
     "metadata": {},
     "output_type": "execute_result"
    }
   ],
   "source": [
    "#Q.2. What is the difference between the following operators:\n",
    "#(i) ‘/’ & ‘//’\n",
    "#(ii) ‘**’ & ‘^’ \n",
    "\n",
    "'''Answer-2.(i) Operator '/' is used for division and operator '//' is also used for division but if output is in decimal\n",
    "it gives nearest number that is less than output\n",
    "(ii). operator '**' is used as exponential power and operator '^' is used as Bitwise XOR.'''"
   ]
  },
  {
   "cell_type": "code",
   "execution_count": 6,
   "id": "648a1607",
   "metadata": {},
   "outputs": [
    {
     "data": {
      "text/plain": [
       "'Answer-3. Logical operators are AND, OR, NOT'"
      ]
     },
     "execution_count": 6,
     "metadata": {},
     "output_type": "execute_result"
    }
   ],
   "source": [
    "#Q.3. List the logical operators.\n",
    "'''Answer-3. Logical operators are AND, OR, NOT'''"
   ]
  },
  {
   "cell_type": "code",
   "execution_count": 7,
   "id": "dabb842f",
   "metadata": {},
   "outputs": [
    {
     "data": {
      "text/plain": [
       "'Answer-4. The purpose of the left shift operator is to shift the bits of a number to the left \\nby a certain number of positions.\\nThe purpose of the right shift operator is to shift the bits of a number to the right \\nby a certain number of positions.'"
      ]
     },
     "execution_count": 7,
     "metadata": {},
     "output_type": "execute_result"
    }
   ],
   "source": [
    "#Q.4. Explain right shift operator and left shift operator with examples.\n",
    "'''Answer-4. The purpose of the left shift operator is to shift the bits of a number to the left \n",
    "by a certain number of positions.\n",
    "The purpose of the right shift operator is to shift the bits of a number to the right \n",
    "by a certain number of positions.'''"
   ]
  },
  {
   "cell_type": "code",
   "execution_count": 33,
   "id": "03de0ae6",
   "metadata": {},
   "outputs": [
    {
     "name": "stdout",
     "output_type": "stream",
     "text": [
      "Length of list is = 15\n",
      "10 is not present in the list\n"
     ]
    }
   ],
   "source": [
    "#Q.5. Create a list containing int type data of length 15. Then write a code to check if 10 is present in the list or not.\n",
    "list_1 = [1,2,55,66,78,98,65,12,23,25,14,45,87,96,20]\n",
    "print('Length of list is =', len(list_1))\n",
    "i=10\n",
    "if i in list_1:\n",
    "    \n",
    "    print(\"10 is present in list\")\n",
    "else:\n",
    "    print('10 is not present in the list')"
   ]
  },
  {
   "cell_type": "code",
   "execution_count": null,
   "id": "4b13f33b",
   "metadata": {},
   "outputs": [],
   "source": []
  }
 ],
 "metadata": {
  "kernelspec": {
   "display_name": "Python 3 (ipykernel)",
   "language": "python",
   "name": "python3"
  },
  "language_info": {
   "codemirror_mode": {
    "name": "ipython",
    "version": 3
   },
   "file_extension": ".py",
   "mimetype": "text/x-python",
   "name": "python",
   "nbconvert_exporter": "python",
   "pygments_lexer": "ipython3",
   "version": "3.10.9"
  }
 },
 "nbformat": 4,
 "nbformat_minor": 5
}
