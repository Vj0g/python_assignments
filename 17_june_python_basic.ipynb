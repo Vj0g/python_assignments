{
 "cells": [
  {
   "cell_type": "code",
   "execution_count": 2,
   "id": "8d7066bb",
   "metadata": {},
   "outputs": [
    {
     "data": {
      "text/plain": [
       "'Answer-1\\nRole of try is to check the error in the code in try block.\\nExcept block will execute when there is a error in try block.'"
      ]
     },
     "execution_count": 2,
     "metadata": {},
     "output_type": "execute_result"
    }
   ],
   "source": [
    "# 1. What is the role of try and exception block?\n",
    "'''Answer-1\n",
    "Role of try is to check the error in the code in try block.\n",
    "Except block will execute when there is a error in try block.'''\n"
   ]
  },
  {
   "cell_type": "code",
   "execution_count": 12,
   "id": "44377eeb",
   "metadata": {},
   "outputs": [
    {
     "name": "stdout",
     "output_type": "stream",
     "text": [
      "Cannot divide by zero\n"
     ]
    }
   ],
   "source": [
    "# 2. What is the syntax for a basic try-except block?\n",
    "'''Answer-2.'''\n",
    "\n",
    "def any_error(x,y):\n",
    "    try:\n",
    "        z=x/y\n",
    "        print(\"This is the result = \", z)\n",
    "        \n",
    "    except:\n",
    "        print('Cannot divide by zero')\n",
    "        \n",
    "any_error(5,0)"
   ]
  },
  {
   "cell_type": "code",
   "execution_count": 1,
   "id": "bb120566",
   "metadata": {},
   "outputs": [
    {
     "data": {
      "text/plain": [
       "'Answer-3.In this case error message will appear.'"
      ]
     },
     "execution_count": 1,
     "metadata": {},
     "output_type": "execute_result"
    }
   ],
   "source": [
    "# 3. What happens if an exception occurs inside a try block and there is no matching except block?\n",
    "\n",
    "'''Answer-3.In this case error message will appear.'''"
   ]
  },
  {
   "cell_type": "code",
   "execution_count": 2,
   "id": "9b2ccbec",
   "metadata": {},
   "outputs": [
    {
     "data": {
      "text/plain": [
       "'Answer-4. Bare except catches all exceptions that can crash the program.\\nSpecifying a specific exception type help user to find specific error.'"
      ]
     },
     "execution_count": 2,
     "metadata": {},
     "output_type": "execute_result"
    }
   ],
   "source": [
    "# 4. What is the difference between using a bare except block and specifying a specific exception type?\n",
    "\n",
    "'''Answer-4. Bare except catches all exceptions that can crash the program.\n",
    "Specifying a specific exception type help user to find specific error.'''\n"
   ]
  },
  {
   "cell_type": "code",
   "execution_count": 14,
   "id": "e7e61659",
   "metadata": {},
   "outputs": [
    {
     "name": "stdout",
     "output_type": "stream",
     "text": [
      "First number = 9\n",
      "Second number = 2\n",
      "This is the multiplication result =  18\n",
      "This is the division result =  4.5\n"
     ]
    }
   ],
   "source": [
    "# 5. Can you have nested try-except blocks in Python? If yes, then give an example.\n",
    "'''Answer-5. Yes.'''\n",
    "\n",
    "try:\n",
    "    x=int(input('First number = '))\n",
    "    y=int(input('Second number = '))\n",
    "\n",
    "    m=x*y\n",
    "    print('This is the multiplication result = ',m)\n",
    "    \n",
    "    try:\n",
    "        \n",
    "        d=x/y\n",
    "        print(\"This is the division result = \",d)\n",
    "    except:\n",
    "        print(\"can not divide by zero\")\n",
    "        \n",
    "except :\n",
    "    print('use integer value')"
   ]
  },
  {
   "cell_type": "code",
   "execution_count": 25,
   "id": "e56865a9",
   "metadata": {},
   "outputs": [
    {
     "name": "stdout",
     "output_type": "stream",
     "text": [
      "First number = 5\n",
      "Second number = 0\n",
      "can not divide by zero\n"
     ]
    }
   ],
   "source": [
    "# 6. Can we use multiple exception blocks, if yes then give an example.\n",
    "'''Answer-6.'''\n",
    "try:\n",
    "    x=int(input('First number = '))\n",
    "    y=int(input('Second number = '))    \n",
    "    d=x/y\n",
    "    print(\"This is the division result = \",d)\n",
    "except ValueError as ve:\n",
    "    print(ve)\n",
    "        \n",
    "except :\n",
    "    print(\"can not divide by zero\")"
   ]
  },
  {
   "cell_type": "code",
   "execution_count": 1,
   "id": "1d549814",
   "metadata": {},
   "outputs": [
    {
     "data": {
      "text/plain": [
       "'\\na. EOFError = This error occurs when program ends without reading user data.\\nb. FloatingPointError = this error occurs due to rounding errors, loss of precision.\\nc. IndexError= Accessing a index that is out of range.\\nd. MemoryError= It occurs when dealing with large datasets.\\ne. OverflowError= When calculations becomes too big.\\nf. TabError= when there is a mixture of tab and spaces.\\ng. ValueError = When an invalid value is assigned to a variable.\\n'"
      ]
     },
     "execution_count": 1,
     "metadata": {},
     "output_type": "execute_result"
    }
   ],
   "source": [
    "# 7. Write the reason due to which following errors are raised:\n",
    "\n",
    "'''\n",
    "a. EOFError = This error occurs when program ends without reading user data.\n",
    "b. FloatingPointError = this error occurs due to rounding errors, loss of precision.\n",
    "c. IndexError= Accessing a index that is out of range.\n",
    "d. MemoryError= It occurs when dealing with large datasets.\n",
    "e. OverflowError= When calculations becomes too big.\n",
    "f. TabError= when there is a mixture of tab and spaces.\n",
    "g. ValueError = When an invalid value is assigned to a variable.\n",
    "'''\n"
   ]
  },
  {
   "cell_type": "code",
   "execution_count": null,
   "id": "ad52c146",
   "metadata": {},
   "outputs": [],
   "source": [
    "# 8. Write code for the following given scenario and add try-exception block to it.\n",
    "'''\n",
    "a. Program to divide two numbers\n",
    "b. Program to convert a string to an integer\n",
    "c. Program to access an element in a list\n",
    "d. Program to handle a specific exception\n",
    "e. Program to handle any exception\n",
    "'''"
   ]
  },
  {
   "cell_type": "code",
   "execution_count": 2,
   "id": "e9b16ff9",
   "metadata": {},
   "outputs": [
    {
     "name": "stdout",
     "output_type": "stream",
     "text": [
      "First number = 2\n",
      "Second number = 1\n",
      "This is the division result =  2.0\n"
     ]
    }
   ],
   "source": [
    "# Answer-8. a. Program to divide two numbers\n",
    "\n",
    "try:\n",
    "    x=int(input('First number = '))\n",
    "    y=int(input('Second number = '))    \n",
    "    d=x/y\n",
    "    print(\"This is the division result = \",d)\n",
    "except ValueError as ve:\n",
    "    print(ve)\n",
    "        \n",
    "except :\n",
    "    print(\"can not divide by zero\")"
   ]
  },
  {
   "cell_type": "code",
   "execution_count": 8,
   "id": "187098d6",
   "metadata": {},
   "outputs": [
    {
     "name": "stdout",
     "output_type": "stream",
     "text": [
      "This is a string = 4\n",
      "<class 'str'>\n",
      "This is converted value =  4\n",
      "<class 'int'>\n"
     ]
    }
   ],
   "source": [
    "# Answer-8. b. Program to convert a string to an integer\n",
    "try:\n",
    "    a = str(input('This is a string = '))\n",
    "    print(type(a))\n",
    "    convert_a = int(a)\n",
    "    print('This is converted value = ', convert_a)\n",
    "    print(type(convert_a))\n",
    "except:\n",
    "    print('can not perform numerical operations')\n"
   ]
  },
  {
   "cell_type": "code",
   "execution_count": 15,
   "id": "4d99b9f8",
   "metadata": {},
   "outputs": [
    {
     "name": "stdout",
     "output_type": "stream",
     "text": [
      "Provide first value = 4\n",
      "Provide 2nd value = 5\n",
      "Provide 3rd value = 1\n",
      "this is the item of list_1 =  [87]\n"
     ]
    }
   ],
   "source": [
    "# Answer-8. c. Program to access an element in a list\n",
    "list_1 = [2,23,5,41,87,9]\n",
    "try:\n",
    "    x = int(input('Provide first value = '))\n",
    "    y = int(input('Provide 2nd value = '))\n",
    "    z = int(input('Provide 3rd value = '))\n",
    "    print('this is the item of list_1 = ',list_1[x:y:z])\n",
    "except:\n",
    "    print('provide proper value')"
   ]
  },
  {
   "cell_type": "code",
   "execution_count": 16,
   "id": "64220a18",
   "metadata": {},
   "outputs": [
    {
     "name": "stdout",
     "output_type": "stream",
     "text": [
      "First number = a\n",
      "invalid literal for int() with base 10: 'a'\n"
     ]
    }
   ],
   "source": [
    "# Answer-8. d. Program to handle a specific exception\n",
    "try:\n",
    "    x=int(input('First number = '))\n",
    "    y=int(input('Second number = '))    \n",
    "    d=x/y\n",
    "    print(\"This is the division result = \",d)\n",
    "except ValueError as ve:\n",
    "    print(ve)\n",
    "        \n",
    "except :\n",
    "    print(\"can not divide by zero\")"
   ]
  },
  {
   "cell_type": "code",
   "execution_count": 21,
   "id": "3329132e",
   "metadata": {},
   "outputs": [
    {
     "name": "stdout",
     "output_type": "stream",
     "text": [
      "First number = '\n",
      "There is a error\n"
     ]
    }
   ],
   "source": [
    "# Answer-8. e. Program to handle any exception\n",
    "try:\n",
    "    x=int(input('First number = '))\n",
    "    y=int(input('Second number = '))    \n",
    "    d=x/y\n",
    "    print(\"This is the division result = \",d)\n",
    "except :\n",
    "    print(\"There is a error\")"
   ]
  },
  {
   "cell_type": "code",
   "execution_count": null,
   "id": "83d4eb37",
   "metadata": {},
   "outputs": [],
   "source": []
  }
 ],
 "metadata": {
  "kernelspec": {
   "display_name": "Python 3 (ipykernel)",
   "language": "python",
   "name": "python3"
  },
  "language_info": {
   "codemirror_mode": {
    "name": "ipython",
    "version": 3
   },
   "file_extension": ".py",
   "mimetype": "text/x-python",
   "name": "python",
   "nbconvert_exporter": "python",
   "pygments_lexer": "ipython3",
   "version": "3.10.9"
  }
 },
 "nbformat": 4,
 "nbformat_minor": 5
}
