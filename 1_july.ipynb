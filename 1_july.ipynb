{
 "cells": [
  {
   "cell_type": "code",
   "execution_count": 1,
   "id": "214c4aab",
   "metadata": {},
   "outputs": [
    {
     "data": {
      "text/plain": [
       "'Answer-1. Goal of Object Oriented Programming are Adaptability, and Reusability.'"
      ]
     },
     "execution_count": 1,
     "metadata": {},
     "output_type": "execute_result"
    }
   ],
   "source": [
    "#3. What is the primary goal of Object-Oriented Programming (OOP)?\n",
    "'''Answer-1. Goal of Object Oriented Programming are Adaptability, and Reusability.'''\n"
   ]
  },
  {
   "cell_type": "code",
   "execution_count": 2,
   "id": "586f9737",
   "metadata": {},
   "outputs": [
    {
     "data": {
      "text/plain": [
       "'Answer-2. An Object is an instance of a Class.\\nA class is like a blueprint while an instance is a copy of the class with actual values.'"
      ]
     },
     "execution_count": 2,
     "metadata": {},
     "output_type": "execute_result"
    }
   ],
   "source": [
    "#2. What is an object in Python?\n",
    "'''Answer-2. An Object is an instance of a Class.\n",
    "A class is like a blueprint while an instance is a copy of the class with actual values.'''"
   ]
  },
  {
   "cell_type": "code",
   "execution_count": 3,
   "id": "9e99a70c",
   "metadata": {},
   "outputs": [
    {
     "data": {
      "text/plain": [
       "'Answer-3. A class is a user-defined blueprint or prototype from which objects are created.'"
      ]
     },
     "execution_count": 3,
     "metadata": {},
     "output_type": "execute_result"
    }
   ],
   "source": [
    "#3. What is a class in Python?\n",
    "'''Answer-3. A class is a user-defined blueprint or prototype from which objects are created.'''"
   ]
  },
  {
   "cell_type": "code",
   "execution_count": 4,
   "id": "ee4db3a8",
   "metadata": {},
   "outputs": [
    {
     "data": {
      "text/plain": [
       "'Answer-4. Attributes of a class are function objects that define corresponding methods of its instances.\\nThey are used to implement access controls of the classes.\\n\\nMethod is called by its name, but it is associated to an object (dependent).'"
      ]
     },
     "execution_count": 4,
     "metadata": {},
     "output_type": "execute_result"
    }
   ],
   "source": [
    "#4. What are attributes and methods in a class?\n",
    "'''Answer-4. Attributes of a class are function objects that define corresponding methods of its instances.\n",
    "They are used to implement access controls of the classes.\n",
    "\n",
    "Method is called by its name, but it is associated to an object (dependent).'''"
   ]
  },
  {
   "cell_type": "code",
   "execution_count": 5,
   "id": "cf9b37cd",
   "metadata": {},
   "outputs": [
    {
     "data": {
      "text/plain": [
       "'Answer-5. Instance Variable: It is basically a class variable without\\na static modifier and is usually shared by all class instances.\\n\\nClass Variable: It is basically a static variable that can be declared anywhere at class level with static.'"
      ]
     },
     "execution_count": 5,
     "metadata": {},
     "output_type": "execute_result"
    }
   ],
   "source": [
    "#5. What is the di€erence between class variables and instance variables in Python?\n",
    "'''Answer-5. Instance Variable: It is basically a class variable without\n",
    "a static modifier and is usually shared by all class instances.\n",
    "\n",
    "Class Variable: It is basically a static variable that can be declared anywhere at class level with static.'''"
   ]
  },
  {
   "cell_type": "code",
   "execution_count": 6,
   "id": "299a64e3",
   "metadata": {},
   "outputs": [
    {
     "data": {
      "text/plain": [
       "'Answer-6. Self represents the instance of the class. \\nBy using the “self”  we can access the attributes and methods of the class in Python.'"
      ]
     },
     "execution_count": 6,
     "metadata": {},
     "output_type": "execute_result"
    }
   ],
   "source": [
    "#6. What is the purpose of the self parameter in Python class methods?\n",
    "'''Answer-6. Self represents the instance of the class. \n",
    "By using the “self”  we can access the attributes and methods of the class in Python.'''"
   ]
  },
  {
   "cell_type": "markdown",
   "id": "9dbc35af",
   "metadata": {},
   "source": [
    "7.\tFor a library management system, you have to design the \"Book” class with OOP principles in mind. \n",
    "    The “Book” class will have following attributes:\n",
    "\n",
    "a.\ttitle: Represents the title of the book.\n",
    "b.\tauthor: Represents the author(s) of the book.\n",
    "c.\tisbn: Represents the ISBN (International Standard Book Number) of the book.\n",
    "d.\tpubIication_year: Represents the year of publication of the book.\n",
    "e.\tavaiIabIe_copies: Represents the number of copies available for checkout. \n",
    "    The class will also include the following methods:\n",
    "a.\tcheck_out(self): Decrements the available copies by one if there are copies\n",
    "    available for checkout.\n",
    "b.\treturn_book(self): Increments the available copies by one when a book is\n",
    "    returned.\n",
    "c.\tdispIay_book_info(self): Displays the information about the book, including its attributes and \n",
    "    the number of available copies.\n",
    "\n"
   ]
  },
  {
   "cell_type": "code",
   "execution_count": 11,
   "id": "a282fb5f",
   "metadata": {},
   "outputs": [
    {
     "name": "stdout",
     "output_type": "stream",
     "text": [
      "The title of the book is, tiff, its author is asdf, its isbn is aa2, publication year 500, available_copies are 10\n",
      "The no. of copies availabel after checkout = 9\n",
      "The no. of copies available after returning book = 11\n"
     ]
    }
   ],
   "source": [
    "#Answer-7\n",
    "class Book():\n",
    "    def __init__(self,title, author, isbn, publication_year, available_copies):\n",
    "        self.title = title\n",
    "        self.author = author\n",
    "        self.isbn = isbn\n",
    "        self.publication_year = publication_year\n",
    "        self.available_copies = available_copies\n",
    "        print(f\"The title of the book is, {self.title}, its author is {self.author}, its isbn is {self.isbn}, publication year {self.publication_year}, available_copies are {self.available_copies}\")\n",
    "    def check_out(self):\n",
    "        \n",
    "        available_book = self.available_copies - 1\n",
    "        print(f\"The no. of copies availabel after checkout = {available_book}\")\n",
    "    def return_book(self):\n",
    "        available_Book = self.available_copies + 1\n",
    "        print(f\"The no. of copies available after returning book = {available_Book}\")      \n",
    "\n",
    "book1 = Book('tiff', 'asdf', 'aa2',500,10)\n",
    "book1.check_out()\n",
    "book1.return_book()"
   ]
  },
  {
   "cell_type": "markdown",
   "id": "a186a7bd",
   "metadata": {},
   "source": [
    "8.\tFor a ticket booking system, you have to design the \"Ticket\" class with OOP\n",
    "principles in mind. The “Ticket” class should have the following attributes:\n",
    "a.\tticket_id: Represents the unique identifier for the ticket.\n",
    "b.\tevent_name: Represents the name of the event.\n",
    "c.\tevent_date: Represents the date of the event.\n",
    "d.\tvenue: Represents the venue of the event.\n",
    "e.\tseat_number: Represents the seat number associated with the ticket.\n",
    "f.\tprice: Represents the price of the ticket.\n",
    "g.\tis_reserved: Represents the reservation status of the ticket. \n",
    "\n",
    "The class also includes the following methods:\n",
    "a.\treserve_ticket(self): Marks the ticket as reserved if it is not already reserved.\n",
    "b.\tcanceI_reservation(self): Cancels the reservation of the ticket if it is already\n",
    "reserved.\n",
    "c.\tdispIay_ticket_info(self): Displays the information about the ticket, including its\n",
    "attributes and reservation status.\n"
   ]
  },
  {
   "cell_type": "code",
   "execution_count": 68,
   "id": "aa4be6b2",
   "metadata": {},
   "outputs": [
    {
     "name": "stdout",
     "output_type": "stream",
     "text": [
      "This is the ticket for music festival, its ticket id is 25a, event date 25jan24\n",
      "at venue goa, seat number 245555A, price of Rs 2500, reserved yes\n",
      "This reserved ticked is cancelled\n"
     ]
    }
   ],
   "source": [
    "#Answer-8\n",
    "class Ticket():\n",
    "    def __init__ (self, ticket_id,event_name,event_date,venue,seat_number,price,is_reserved):\n",
    "        self.ticket_id = ticket_id\n",
    "        self.event_name=event_name\n",
    "        self.event_date=event_date\n",
    "        self.venue=venue\n",
    "        self.seat_number=seat_number\n",
    "        self.price=price\n",
    "        self.is_reserved=is_reserved\n",
    "        is_reserved=='yes' or 'no'\n",
    "    \n",
    "    def reserve_ticket(self):\n",
    "        if self.is_reserved == 'yes':\n",
    "            print(\"This ticket is reserved\")\n",
    "        else :\n",
    "            print(\"This ticked is not reserved\")\n",
    "    \n",
    "    def cancel_reservation(self):\n",
    "        if self.is_reserved == 'yes':\n",
    "            print(\"This reserved ticked is cancelled\")\n",
    "        else :\n",
    "            print(\"Can not cancel as this ticket is not reserved\")\n",
    "            \n",
    "    def display_ticket_info(self):\n",
    "        print(f\"This is the ticket for {self.event_name}, its ticket id is {self.ticket_id}, event date {self.event_date}\")\n",
    "        print(f\"at venue {self.venue}, seat number {self.seat_number}, price of {self.price}, reserved {self.is_reserved}\")\n",
    "        \n",
    "        \n",
    "a=Ticket('25a', \"music festival\", '25jan24','goa','245555A','Rs 2500', 'yes')        \n",
    "a.display_ticket_info()        \n",
    "a.cancel_reservation()        "
   ]
  },
  {
   "cell_type": "markdown",
   "id": "b52fe833",
   "metadata": {},
   "source": [
    "9.\tYou are creating a shopping cart for an e-commerce website. Using OOP to model the \"ShoppingCart\" functionality the class should contain following attributes and methods:\n",
    "a.\titems: Represents the list of items in the shopping cart. \n",
    "The class also includes the following methods:\n",
    " \n",
    "a.\tadd_item(self, item): Adds an item to the shopping cart by appending it to the list of items.\n",
    "b.\tremove_item(self, item): Removes an item from the shopping cart if it exists in the list.\n",
    "c.\tview_cart(self): Displays the items currently present in the shopping cart.\n",
    "d.\tcIear_cart(self): Clears all items from the shopping cart by reassigning an empty list to the items attribute.\n"
   ]
  },
  {
   "cell_type": "code",
   "execution_count": 40,
   "id": "8766a6ec",
   "metadata": {},
   "outputs": [
    {
     "name": "stdout",
     "output_type": "stream",
     "text": [
      "This is the shopping car items, [5]\n",
      "This is the shopping car items, [5, 'f']\n",
      "This is shopping cart after removing the item, [5]\n"
     ]
    }
   ],
   "source": [
    "#Answer-9\n",
    "class ShoppingCart():\n",
    "    def __init__(self,items):\n",
    "        self.items=items\n",
    "        self.items=[]\n",
    "    \n",
    "    def add_item(self,item):\n",
    "        i = self.items.append(item)\n",
    "        print(f\"This is the shopping car items, {self.items}\")\n",
    "    def remove_item(self,item):\n",
    "        item = self.items.remove(item)\n",
    "        print(f\"This is shopping cart after removing the item, {self.items}\")\n",
    "\n",
    "s = ShoppingCart('a')\n",
    "s.add_item(5)\n",
    "s.add_item('f')\n",
    "s.remove_item('f')"
   ]
  },
  {
   "cell_type": "markdown",
   "id": "05f8a507",
   "metadata": {},
   "source": [
    "10.\tImagine a school management system. You have to design the \"Student\" class using OOP concepts.The “Student” class has the following attributes:\n",
    "a.\tname: Represents the name of the student.\n",
    "b.\tage: Represents the age of the student.\n",
    "c.\tgrade: Represents the grade or class of the student.\n",
    "d.\tstudent_id: Represents the unique identifier for the student.\n",
    "e.\tattendance: Represents the attendance record of the student. \n",
    "\n",
    "The class should also include the following methods:\n",
    "a.\tupdate_attendance(self, date, status): Updates the attendance record of the student for a given date with the provided status (e.g., present or absent).\n",
    "b.\tget_attendance(self): Returns the attendance record of the student.\n",
    "c.\t\tget_average_attendance(self): Calculates and returns the average attendance percentage of the student based on their attendance record.\n",
    "\n"
   ]
  },
  {
   "cell_type": "code",
   "execution_count": 8,
   "id": "9abcfd30",
   "metadata": {},
   "outputs": [
    {
     "name": "stdout",
     "output_type": "stream",
     "text": [
      "The name of student is abc, age is 16, in grade 10, its id is 102, attendance is 265.\n",
      "Student on this particular date 05 May 24 was Absent.\n",
      "This is the attendance record of student 265 days.\n",
      "This is the average percentage of attendance out of 300 days 88.33333333333333.\n"
     ]
    }
   ],
   "source": [
    "#Answer-10\n",
    "class student():\n",
    "    def __init__(self,name, age, grade, student_id, attendance):\n",
    "        self.name=name\n",
    "        self.age=age\n",
    "        self.grade=grade\n",
    "        self.student_id=student_id\n",
    "        self.attendance=attendance\n",
    "        print(f\"The name of student is {self.name}, age is {self.age}, in grade {self.grade}, its id is {self.student_id}, attendance is {self.attendance}.\")\n",
    "        \n",
    "    def update_attendance(self,date,status):\n",
    "        print(f\"Student on this particular date {date} was {status}.\")\n",
    "    def get_attendance(self):\n",
    "        print(f\"This is the attendance record of student {self.attendance} days.\")\n",
    "    def get_average_attendance(self):\n",
    "        avg_attendance=(self.attendance/300)*100\n",
    "        print(f\"This is the average percentage of attendance out of 300 days {avg_attendance}.\")\n",
    "        \n",
    "student_1=student('abc', 16, 10, 102, 265)\n",
    "student_1.update_attendance(\"05 May 24\", 'Absent')\n",
    "student_1.get_attendance()\n",
    "student_1.get_average_attendance()"
   ]
  },
  {
   "cell_type": "code",
   "execution_count": null,
   "id": "8cddbd07",
   "metadata": {},
   "outputs": [],
   "source": []
  },
  {
   "cell_type": "code",
   "execution_count": null,
   "id": "5ea7b57c",
   "metadata": {},
   "outputs": [],
   "source": []
  },
  {
   "cell_type": "code",
   "execution_count": null,
   "id": "73565367",
   "metadata": {},
   "outputs": [],
   "source": []
  },
  {
   "cell_type": "code",
   "execution_count": null,
   "id": "71846b3e",
   "metadata": {},
   "outputs": [],
   "source": []
  },
  {
   "cell_type": "code",
   "execution_count": null,
   "id": "b2a42933",
   "metadata": {},
   "outputs": [],
   "source": [
    "1.\t\n",
    "2.\t\n",
    "3.\t\n",
    "4.\t\n",
    "5.\t\n",
    "6.\t\n",
    "\n",
    "\n"
   ]
  },
  {
   "cell_type": "code",
   "execution_count": null,
   "id": "97c5a824",
   "metadata": {},
   "outputs": [],
   "source": []
  },
  {
   "cell_type": "code",
   "execution_count": null,
   "id": "ce8fb318",
   "metadata": {},
   "outputs": [],
   "source": []
  }
 ],
 "metadata": {
  "kernelspec": {
   "display_name": "Python 3 (ipykernel)",
   "language": "python",
   "name": "python3"
  },
  "language_info": {
   "codemirror_mode": {
    "name": "ipython",
    "version": 3
   },
   "file_extension": ".py",
   "mimetype": "text/x-python",
   "name": "python",
   "nbconvert_exporter": "python",
   "pygments_lexer": "ipython3",
   "version": "3.10.9"
  }
 },
 "nbformat": 4,
 "nbformat_minor": 5
}
