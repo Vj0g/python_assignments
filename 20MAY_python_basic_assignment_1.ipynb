{
 "cells": [
  {
   "cell_type": "code",
   "execution_count": 1,
   "id": "ed6d1161",
   "metadata": {},
   "outputs": [
    {
     "name": "stdout",
     "output_type": "stream",
     "text": [
      "['False', 'None', 'True', 'and', 'as', 'assert', 'async', 'await', 'break', 'class', 'continue', 'def', 'del', 'elif', 'else', 'except', 'finally', 'for', 'from', 'global', 'if', 'import', 'in', 'is', 'lambda', 'nonlocal', 'not', 'or', 'pass', 'raise', 'return', 'try', 'while', 'with', 'yield']\n"
     ]
    }
   ],
   "source": [
    "##Q.1. What are keywords in python? Using the keyword library, print all the python keywords.\n",
    "'''Answer-1.Keywords are predefined words in python that cannot be used as variables.'''\n",
    "import keyword\n",
    "print(keyword.kwlist)"
   ]
  },
  {
   "cell_type": "code",
   "execution_count": 2,
   "id": "fb8c3a54",
   "metadata": {},
   "outputs": [
    {
     "data": {
      "text/plain": [
       "\"Answer-2. Variables in python stores values. Rules to create variables are-:\\n1- It must start with a letter or the underscore(_).\\n2- It can't be a keyword.\\n3- These are case sensitive. Eg- CAT, cat, Cat are diffrent variables.\\n4- It can only contain aphabets, numerics and underscore. Eg- A2s, c2_\""
      ]
     },
     "execution_count": 2,
     "metadata": {},
     "output_type": "execute_result"
    }
   ],
   "source": [
    "##Q.2. What are the rules to create variables in python?\n",
    "'''Answer-2. Variables in python stores values. Rules to create variables are-:\n",
    "1- It must start with a letter or the underscore(_).\n",
    "2- It can't be a keyword.\n",
    "3- These are case sensitive. Eg- CAT, cat, Cat are diffrent variables.\n",
    "4- It can only contain aphabets, numerics and underscore. Eg- A2s, c2_'''"
   ]
  },
  {
   "cell_type": "code",
   "execution_count": 3,
   "id": "94014150",
   "metadata": {},
   "outputs": [
    {
     "data": {
      "text/plain": [
       "'Answer-3. \\n1.Variable name follow snake case that means all words of variable should be in smaller\\n  case and each word seprated by underscore(_).Eg. first_variable = 5\\n2.Variable name must be meaningful and readable.\\n3.Do not start variable name with number or speacial character.\\n4.Do not use python keywords and function names as variable. eg. list, str, print.'"
      ]
     },
     "execution_count": 3,
     "metadata": {},
     "output_type": "execute_result"
    }
   ],
   "source": [
    "'''Q.3. What are the standards and conventions followed for the nomenclature of variables in\n",
    "python to improve code readability and maintainability?'''\n",
    "'''Answer-3. \n",
    "1.Variable name follow snake case that means all words of variable should be in smaller\n",
    "  case and each word seprated by underscore(_).Eg. first_variable = 5\n",
    "2.Variable name must be meaningful and readable.\n",
    "3.Do not start variable name with number or speacial character.\n",
    "4.Do not use python keywords and function names as variable. eg. list, str, print.'''"
   ]
  },
  {
   "cell_type": "code",
   "execution_count": 4,
   "id": "b87271af",
   "metadata": {},
   "outputs": [
    {
     "ename": "SyntaxError",
     "evalue": "invalid syntax (1385954431.py, line 3)",
     "output_type": "error",
     "traceback": [
      "\u001b[1;36m  Cell \u001b[1;32mIn[4], line 3\u001b[1;36m\u001b[0m\n\u001b[1;33m    return = 5\u001b[0m\n\u001b[1;37m           ^\u001b[0m\n\u001b[1;31mSyntaxError\u001b[0m\u001b[1;31m:\u001b[0m invalid syntax\n"
     ]
    }
   ],
   "source": [
    "##Q.4. What will happen if a keyword is used as a variable name?\n",
    "\"\"\"Answer-4. It shows error.\"\"\"\n",
    "return = 5\n",
    "is = 10"
   ]
  },
  {
   "cell_type": "code",
   "execution_count": 5,
   "id": "42a531f3",
   "metadata": {},
   "outputs": [
    {
     "data": {
      "text/plain": [
       "'Answer-5. def keyword is used to define function.\\neg. def add(x,y), here we have created a add function'"
      ]
     },
     "execution_count": 5,
     "metadata": {},
     "output_type": "execute_result"
    }
   ],
   "source": [
    "##Q.5. For what purpose def keyword is used?\n",
    "'''Answer-5. def keyword is used to define function.\n",
    "eg. def add(x,y), here we have created a add function'''"
   ]
  },
  {
   "cell_type": "code",
   "execution_count": 6,
   "id": "5cfa59a4",
   "metadata": {},
   "outputs": [
    {
     "data": {
      "text/plain": [
       "\"this is the first 'line'\""
      ]
     },
     "execution_count": 6,
     "metadata": {},
     "output_type": "execute_result"
    }
   ],
   "source": [
    "##Q.6. What is the operation of this special character ‘\\’?\n",
    "\"\"\"Answer-6. This is called escape character '\\'. We use it to use quotes inside a string.\n",
    "eg. code= 'this is the first 'code'', this will give use error, so we use it like:-\"\"\"\n",
    "code= 'this is the first \\'line\\''\n",
    "code"
   ]
  },
  {
   "cell_type": "code",
   "execution_count": 44,
   "id": "959779bb",
   "metadata": {},
   "outputs": [
    {
     "name": "stdout",
     "output_type": "stream",
     "text": [
      "[1, 3, 4, 78, 8]\n",
      "{'f', 2, 5, 6, 'h', 'a'}\n",
      "('a', 's', 'd', 'e')\n"
     ]
    }
   ],
   "source": [
    "'''Q.7. Give an example of the following conditions:\n",
    "(i) Homogeneous list\n",
    "(ii) Heterogeneous set\n",
    "(iii) Homogeneous tuple'''\n",
    "\n",
    "'''Answer-7''' \n",
    "homogeneous_list = [1,3,4,78,8]\n",
    "heterogeneous_set = {'a',2,5,6,'h','f'}\n",
    "homogeneous_tuple = ('a','s','d','e')\n",
    "print(homogeneous_list)\n",
    "print(heterogeneous_set)\n",
    "print(homogeneous_tuple) "
   ]
  },
  {
   "cell_type": "code",
   "execution_count": 10,
   "id": "5719df9f",
   "metadata": {},
   "outputs": [
    {
     "ename": "TypeError",
     "evalue": "'tuple' object does not support item assignment",
     "output_type": "error",
     "traceback": [
      "\u001b[1;31m---------------------------------------------------------------------------\u001b[0m",
      "\u001b[1;31mTypeError\u001b[0m                                 Traceback (most recent call last)",
      "Cell \u001b[1;32mIn[10], line 5\u001b[0m\n\u001b[0;32m      2\u001b[0m \u001b[38;5;124;03m'''Answer-8. Immutable data types are those which can be changed once they are created. Eg. tuple.\u001b[39;00m\n\u001b[0;32m      3\u001b[0m \u001b[38;5;124;03mMutable data types are those which can be changed once they are created. Eg- list'''\u001b[39;00m\n\u001b[0;32m      4\u001b[0m tuple_1\u001b[38;5;241m=\u001b[39m(\u001b[38;5;241m1\u001b[39m,\u001b[38;5;241m2\u001b[39m,\u001b[38;5;241m3\u001b[39m,\u001b[38;5;124m'\u001b[39m\u001b[38;5;124ma\u001b[39m\u001b[38;5;124m'\u001b[39m,\u001b[38;5;124m'\u001b[39m\u001b[38;5;124ml3\u001b[39m\u001b[38;5;124m'\u001b[39m)\n\u001b[1;32m----> 5\u001b[0m tuple_1[\u001b[38;5;241m0\u001b[39m]\u001b[38;5;241m=\u001b[39m\u001b[38;5;241m66\u001b[39m            \u001b[38;5;66;03m#immutable data type\u001b[39;00m\n\u001b[0;32m      6\u001b[0m \u001b[38;5;28mprint\u001b[39m(tuple_1)\n",
      "\u001b[1;31mTypeError\u001b[0m: 'tuple' object does not support item assignment"
     ]
    }
   ],
   "source": [
    "#Q.8. Explain the mutable and immutable data types with proper explanation & examples.\n",
    "'''Answer-8. Immutable data types are those which can be changed once they are created. Eg. tuple.\n",
    "Mutable data types are those which can be changed once they are created. Eg- list'''\n",
    "tuple_1=(1,2,3,'a','l3')\n",
    "tuple_1[0]=66            #immutable data type\n",
    "print(tuple_1)"
   ]
  },
  {
   "cell_type": "code",
   "execution_count": 11,
   "id": "3d8a0ebe",
   "metadata": {},
   "outputs": [
    {
     "name": "stdout",
     "output_type": "stream",
     "text": [
      "[1, 2, 3, 'a', 'kk3', 333]\n"
     ]
    }
   ],
   "source": [
    "#Answer-8\n",
    "list_1= [1,2,3,'a','kk3']  #mutable data type\n",
    "list_1.append(333)\n",
    "print(list_1)"
   ]
  },
  {
   "cell_type": "code",
   "execution_count": null,
   "id": "da052924",
   "metadata": {},
   "outputs": [],
   "source": [
    "# Q.9. Write a code to create the given structure using only for loop.\n",
    "    *\n",
    "   ***\n",
    "  *****\n",
    " *******\n",
    "*********\n"
   ]
  },
  {
   "cell_type": "code",
   "execution_count": 4,
   "id": "64309f18",
   "metadata": {
    "scrolled": true
   },
   "outputs": [
    {
     "name": "stdout",
     "output_type": "stream",
     "text": [
      "      *\n",
      "\n",
      "     ***\n",
      "\n",
      "    *****\n",
      "\n",
      "   *******\n",
      "\n",
      "  *********\n",
      "\n"
     ]
    }
   ],
   "source": [
    "#Answer-9\n",
    "n=5\n",
    "for i in range(n):\n",
    "    print(' '*(n-i),'*'*(i),end='')\n",
    "    for j in range(0,i+1):\n",
    "        \n",
    "        print('*',end='')\n",
    "        \n",
    "    print('\\n')"
   ]
  },
  {
   "cell_type": "code",
   "execution_count": 2,
   "id": "738662bc",
   "metadata": {},
   "outputs": [
    {
     "ename": "SyntaxError",
     "evalue": "invalid syntax (2137740735.py, line 2)",
     "output_type": "error",
     "traceback": [
      "\u001b[1;36m  Cell \u001b[1;32mIn[2], line 2\u001b[1;36m\u001b[0m\n\u001b[1;33m    |||||||||\u001b[0m\n\u001b[1;37m    ^\u001b[0m\n\u001b[1;31mSyntaxError\u001b[0m\u001b[1;31m:\u001b[0m invalid syntax\n"
     ]
    }
   ],
   "source": [
    "#Q.10. Write a code to create the given structure using while loop.\n",
    "|||||||||\n",
    " |||||||\n",
    "  |||||\n",
    "   |||\n",
    "    |"
   ]
  },
  {
   "cell_type": "code",
   "execution_count": 1,
   "id": "1e49147c",
   "metadata": {
    "scrolled": true
   },
   "outputs": [
    {
     "name": "stdout",
     "output_type": "stream",
     "text": [
      " |||||||||\n",
      "\n",
      "  |||||||\n",
      "\n",
      "   |||||\n",
      "\n",
      "    |||\n",
      "\n",
      "     |\n",
      "\n"
     ]
    }
   ],
   "source": [
    "a=0\n",
    "while a in range(5):\n",
    "    a=a+1\n",
    "     \n",
    "    print(' '*(a-1),end=' '),print('|'*(5-a),end='')\n",
    "    print('|'*(6-a),end='')\n",
    "    print('\\n')\n",
    "       "
   ]
  },
  {
   "cell_type": "code",
   "execution_count": null,
   "id": "45ffdf44",
   "metadata": {},
   "outputs": [],
   "source": [
    "\n",
    "    "
   ]
  },
  {
   "cell_type": "code",
   "execution_count": null,
   "id": "f210cc66",
   "metadata": {},
   "outputs": [],
   "source": []
  },
  {
   "cell_type": "code",
   "execution_count": null,
   "id": "0d55ac56",
   "metadata": {},
   "outputs": [],
   "source": []
  },
  {
   "cell_type": "code",
   "execution_count": null,
   "id": "6018e82e",
   "metadata": {},
   "outputs": [],
   "source": []
  },
  {
   "cell_type": "code",
   "execution_count": null,
   "id": "61a5f4c9",
   "metadata": {},
   "outputs": [],
   "source": []
  }
 ],
 "metadata": {
  "kernelspec": {
   "display_name": "Python 3 (ipykernel)",
   "language": "python",
   "name": "python3"
  },
  "language_info": {
   "codemirror_mode": {
    "name": "ipython",
    "version": 3
   },
   "file_extension": ".py",
   "mimetype": "text/x-python",
   "name": "python",
   "nbconvert_exporter": "python",
   "pygments_lexer": "ipython3",
   "version": "3.10.9"
  }
 },
 "nbformat": 4,
 "nbformat_minor": 5
}
